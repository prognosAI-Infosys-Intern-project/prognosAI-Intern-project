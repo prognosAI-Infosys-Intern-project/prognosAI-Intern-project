{
 "cells": [
  {
   "cell_type": "markdown",
   "id": "d3580c30",
   "metadata": {},
   "source": [
    "### Assignment-2\n",
    "\n",
    "**Objective:**\n",
    "\n",
    "Build and experiment with advanced LSTM model variant for RUL prediction."
   ]
  },
  {
   "cell_type": "markdown",
   "id": "345d7f43",
   "metadata": {},
   "source": [
    "1. Imports necessary libraries"
   ]
  },
  {
   "cell_type": "code",
   "execution_count": null,
   "id": "311be2ff",
   "metadata": {
    "vscode": {
     "languageId": "plaintext"
    }
   },
   "outputs": [],
   "source": []
  },
  {
   "cell_type": "markdown",
   "id": "0b9b38a1",
   "metadata": {},
   "source": [
    "2. Data Loading"
   ]
  },
  {
   "cell_type": "code",
   "execution_count": null,
   "id": "89a6881c",
   "metadata": {
    "vscode": {
     "languageId": "plaintext"
    }
   },
   "outputs": [],
   "source": []
  },
  {
   "cell_type": "markdown",
   "id": "00bb36b4",
   "metadata": {},
   "source": [
    "3. Train/Validation Split"
   ]
  },
  {
   "cell_type": "code",
   "execution_count": null,
   "id": "2e56f950",
   "metadata": {
    "vscode": {
     "languageId": "plaintext"
    }
   },
   "outputs": [],
   "source": []
  },
  {
   "cell_type": "markdown",
   "id": "7757cd5d",
   "metadata": {},
   "source": [
    "4. Define Model Architectures"
   ]
  },
  {
   "cell_type": "code",
   "execution_count": null,
   "id": "eaa7f307",
   "metadata": {
    "vscode": {
     "languageId": "plaintext"
    }
   },
   "outputs": [],
   "source": []
  },
  {
   "cell_type": "markdown",
   "id": "73c917b2",
   "metadata": {},
   "source": [
    "5. Instantiate and compile models"
   ]
  },
  {
   "cell_type": "code",
   "execution_count": null,
   "id": "e20b4de4",
   "metadata": {
    "vscode": {
     "languageId": "plaintext"
    }
   },
   "outputs": [],
   "source": []
  },
  {
   "cell_type": "markdown",
   "id": "5c0cb8a9",
   "metadata": {},
   "source": [
    "6. Prepare datasets for training"
   ]
  },
  {
   "cell_type": "code",
   "execution_count": null,
   "id": "395158f0",
   "metadata": {
    "vscode": {
     "languageId": "plaintext"
    }
   },
   "outputs": [],
   "source": []
  },
  {
   "cell_type": "markdown",
   "id": "fbda819c",
   "metadata": {},
   "source": [
    "7. Setup callbacks"
   ]
  },
  {
   "cell_type": "code",
   "execution_count": null,
   "id": "ae54969a",
   "metadata": {
    "vscode": {
     "languageId": "plaintext"
    }
   },
   "outputs": [],
   "source": []
  },
  {
   "cell_type": "markdown",
   "id": "91634b51",
   "metadata": {},
   "source": [
    "8. Train and compare models"
   ]
  },
  {
   "cell_type": "code",
   "execution_count": null,
   "id": "4125ac63",
   "metadata": {
    "vscode": {
     "languageId": "plaintext"
    }
   },
   "outputs": [],
   "source": []
  },
  {
   "cell_type": "markdown",
   "id": "0f50c569",
   "metadata": {},
   "source": [
    "9. Plot training and validation loss curve function"
   ]
  },
  {
   "cell_type": "markdown",
   "id": "b42d2caf",
   "metadata": {},
   "source": []
  },
  {
   "cell_type": "markdown",
   "id": "9d5a8fc2",
   "metadata": {},
   "source": [
    "10. Provide Final Report of this Experiement."
   ]
  },
  {
   "cell_type": "code",
   "execution_count": null,
   "id": "04dc624e",
   "metadata": {
    "vscode": {
     "languageId": "plaintext"
    }
   },
   "outputs": [],
   "source": []
  },
  {
   "cell_type": "code",
   "execution_count": null,
   "id": "56b16444",
   "metadata": {
    "vscode": {
     "languageId": "plaintext"
    }
   },
   "outputs": [],
   "source": []
  },
  {
   "cell_type": "code",
   "execution_count": null,
   "id": "cb6f38ab",
   "metadata": {
    "vscode": {
     "languageId": "plaintext"
    }
   },
   "outputs": [],
   "source": []
  }
 ],
 "metadata": {
  "language_info": {
   "name": "python"
  }
 },
 "nbformat": 4,
 "nbformat_minor": 5
}
